{
 "cells": [
  {
   "cell_type": "code",
   "execution_count": 1,
   "metadata": {
    "colab": {
     "base_uri": "https://localhost:8080/"
    },
    "executionInfo": {
     "elapsed": 721,
     "status": "ok",
     "timestamp": 1633778915417,
     "user": {
      "displayName": "Кирилл Куренцов",
      "photoUrl": "https://lh3.googleusercontent.com/a-/AOh14GgDVF7E0fUQM8sKrytd9p75riHoDqT75ypkUThX9g=s64",
      "userId": "05017703767947278228"
     },
     "user_tz": -180
    },
    "id": "yeXQx7YHNuZD",
    "outputId": "15a93f4a-99b8-4ffe-c884-f94bd3a8f413"
   },
   "outputs": [],
   "source": [
    "import pandas as pd\n",
    "from sklearn.preprocessing import MultiLabelBinarizer\n",
    "\n",
    "\n",
    "test_users = pd.read_csv('test_users.csv')\n",
    "users = pd.read_csv('users.csv')\n",
    "rubrics = pd.read_csv('rubrics.csv')\n",
    "reviews = pd.read_csv('reviews.csv', low_memory=False)\n",
    "features = pd.read_csv('features.csv')\n",
    "aspects = pd.read_csv('aspects.csv')\n",
    "orgs = pd.read_csv('organisations.csv')\n",
    "\n",
    "\n",
    "reviews = reviews.merge(users[['user_id', 'city']], on='user_id')\n",
    "reviews = reviews.rename({'city': 'user_city'}, axis=1)\n",
    "\n",
    "reviews = reviews.merge(orgs[['org_id', 'city', 'rating']], on='org_id')\n",
    "reviews = reviews.rename({'city': 'org_city'}, axis=1)\n",
    "\n",
    "reviews = reviews[reviews['rating_x'] >= 4.0]\n",
    "reviews = reviews[reviews['rating_y'] >= 4.0]\n",
    "\n",
    "reviews.drop('aspects', axis=1, inplace=True)"
   ]
  },
  {
   "cell_type": "code",
   "execution_count": 2,
   "metadata": {
    "colab": {
     "base_uri": "https://localhost:8080/",
     "height": 206
    },
    "executionInfo": {
     "elapsed": 7,
     "status": "ok",
     "timestamp": 1633778918424,
     "user": {
      "displayName": "Кирилл Куренцов",
      "photoUrl": "https://lh3.googleusercontent.com/a-/AOh14GgDVF7E0fUQM8sKrytd9p75riHoDqT75ypkUThX9g=s64",
      "userId": "05017703767947278228"
     },
     "user_tz": -180
    },
    "id": "SX0yMcR7OicB",
    "outputId": "d948c132-73d5-4051-f763-4bfe6ee3c352"
   },
   "outputs": [
    {
     "data": {
      "text/html": [
       "<div>\n",
       "<style scoped>\n",
       "    .dataframe tbody tr th:only-of-type {\n",
       "        vertical-align: middle;\n",
       "    }\n",
       "\n",
       "    .dataframe tbody tr th {\n",
       "        vertical-align: top;\n",
       "    }\n",
       "\n",
       "    .dataframe thead th {\n",
       "        text-align: right;\n",
       "    }\n",
       "</style>\n",
       "<table border=\"1\" class=\"dataframe\">\n",
       "  <thead>\n",
       "    <tr style=\"text-align: right;\">\n",
       "      <th></th>\n",
       "      <th>user_id</th>\n",
       "    </tr>\n",
       "  </thead>\n",
       "  <tbody>\n",
       "    <tr>\n",
       "      <th>0</th>\n",
       "      <td>3545210947248911048</td>\n",
       "    </tr>\n",
       "    <tr>\n",
       "      <th>1</th>\n",
       "      <td>15271987121288045390</td>\n",
       "    </tr>\n",
       "    <tr>\n",
       "      <th>2</th>\n",
       "      <td>15016858616184265932</td>\n",
       "    </tr>\n",
       "    <tr>\n",
       "      <th>3</th>\n",
       "      <td>12457244142928722989</td>\n",
       "    </tr>\n",
       "    <tr>\n",
       "      <th>4</th>\n",
       "      <td>13339684649926251468</td>\n",
       "    </tr>\n",
       "  </tbody>\n",
       "</table>\n",
       "</div>"
      ],
      "text/plain": [
       "                user_id\n",
       "0   3545210947248911048\n",
       "1  15271987121288045390\n",
       "2  15016858616184265932\n",
       "3  12457244142928722989\n",
       "4  13339684649926251468"
      ]
     },
     "execution_count": 2,
     "metadata": {},
     "output_type": "execute_result"
    }
   ],
   "source": [
    "test_users.head()"
   ]
  },
  {
   "cell_type": "code",
   "execution_count": 3,
   "metadata": {
    "colab": {
     "base_uri": "https://localhost:8080/",
     "height": 415
    },
    "executionInfo": {
     "elapsed": 7112,
     "status": "error",
     "timestamp": 1633778925531,
     "user": {
      "displayName": "Кирилл Куренцов",
      "photoUrl": "https://lh3.googleusercontent.com/a-/AOh14GgDVF7E0fUQM8sKrytd9p75riHoDqT75ypkUThX9g=s64",
      "userId": "05017703767947278228"
     },
     "user_tz": -180
    },
    "id": "kWCs3jMdOpkv",
    "outputId": "128112a2-96cd-4d34-c1f9-1cfe7614cd44"
   },
   "outputs": [
    {
     "data": {
      "text/html": [
       "<div>\n",
       "<style scoped>\n",
       "    .dataframe tbody tr th:only-of-type {\n",
       "        vertical-align: middle;\n",
       "    }\n",
       "\n",
       "    .dataframe tbody tr th {\n",
       "        vertical-align: top;\n",
       "    }\n",
       "\n",
       "    .dataframe thead th {\n",
       "        text-align: right;\n",
       "    }\n",
       "</style>\n",
       "<table border=\"1\" class=\"dataframe\">\n",
       "  <thead>\n",
       "    <tr style=\"text-align: right;\">\n",
       "      <th></th>\n",
       "      <th>user_id</th>\n",
       "      <th>org_id</th>\n",
       "      <th>rating_x</th>\n",
       "      <th>ts</th>\n",
       "      <th>user_city</th>\n",
       "      <th>org_city</th>\n",
       "      <th>rating_y</th>\n",
       "    </tr>\n",
       "  </thead>\n",
       "  <tbody>\n",
       "    <tr>\n",
       "      <th>623270</th>\n",
       "      <td>915817146845801972</td>\n",
       "      <td>1135274990644701922</td>\n",
       "      <td>5.0</td>\n",
       "      <td>461</td>\n",
       "      <td>msk</td>\n",
       "      <td>msk</td>\n",
       "      <td>4.420231</td>\n",
       "    </tr>\n",
       "    <tr>\n",
       "      <th>2141217</th>\n",
       "      <td>16626175088275833957</td>\n",
       "      <td>6425522008634357838</td>\n",
       "      <td>5.0</td>\n",
       "      <td>1108</td>\n",
       "      <td>msk</td>\n",
       "      <td>msk</td>\n",
       "      <td>4.656613</td>\n",
       "    </tr>\n",
       "    <tr>\n",
       "      <th>449020</th>\n",
       "      <td>1894891031476493552</td>\n",
       "      <td>3783475571739324296</td>\n",
       "      <td>5.0</td>\n",
       "      <td>1187</td>\n",
       "      <td>spb</td>\n",
       "      <td>spb</td>\n",
       "      <td>4.091766</td>\n",
       "    </tr>\n",
       "    <tr>\n",
       "      <th>3045877</th>\n",
       "      <td>540932745278269946</td>\n",
       "      <td>12685264777658042487</td>\n",
       "      <td>5.0</td>\n",
       "      <td>1021</td>\n",
       "      <td>spb</td>\n",
       "      <td>spb</td>\n",
       "      <td>4.344828</td>\n",
       "    </tr>\n",
       "    <tr>\n",
       "      <th>1337368</th>\n",
       "      <td>3566495472361475380</td>\n",
       "      <td>9575991199022647715</td>\n",
       "      <td>4.0</td>\n",
       "      <td>212</td>\n",
       "      <td>msk</td>\n",
       "      <td>msk</td>\n",
       "      <td>4.364430</td>\n",
       "    </tr>\n",
       "  </tbody>\n",
       "</table>\n",
       "</div>"
      ],
      "text/plain": [
       "                      user_id                org_id  rating_x    ts user_city  \\\n",
       "623270     915817146845801972   1135274990644701922       5.0   461       msk   \n",
       "2141217  16626175088275833957   6425522008634357838       5.0  1108       msk   \n",
       "449020    1894891031476493552   3783475571739324296       5.0  1187       spb   \n",
       "3045877    540932745278269946  12685264777658042487       5.0  1021       spb   \n",
       "1337368   3566495472361475380   9575991199022647715       4.0   212       msk   \n",
       "\n",
       "        org_city  rating_y  \n",
       "623270       msk  4.420231  \n",
       "2141217      msk  4.656613  \n",
       "449020       spb  4.091766  \n",
       "3045877      spb  4.344828  \n",
       "1337368      msk  4.364430  "
      ]
     },
     "execution_count": 3,
     "metadata": {},
     "output_type": "execute_result"
    }
   ],
   "source": [
    "reviews.sample(5)"
   ]
  },
  {
   "cell_type": "code",
   "execution_count": 4,
   "metadata": {},
   "outputs": [
    {
     "data": {
      "text/plain": [
       "user_id      0\n",
       "org_id       0\n",
       "rating_x     0\n",
       "ts           0\n",
       "user_city    0\n",
       "org_city     0\n",
       "rating_y     0\n",
       "dtype: int64"
      ]
     },
     "execution_count": 4,
     "metadata": {},
     "output_type": "execute_result"
    }
   ],
   "source": [
    "reviews.isna().sum()"
   ]
  },
  {
   "cell_type": "code",
   "execution_count": 5,
   "metadata": {},
   "outputs": [
    {
     "data": {
      "text/plain": [
       "1215352       0\n",
       "2032903       0\n",
       "386646        0\n",
       "2402566       0\n",
       "2681506       0\n",
       "           ... \n",
       "979310     1216\n",
       "243938     1216\n",
       "2521420    1216\n",
       "1601868    1216\n",
       "353143     1216\n",
       "Name: ts, Length: 2591266, dtype: int64"
      ]
     },
     "execution_count": 5,
     "metadata": {},
     "output_type": "execute_result"
    }
   ],
   "source": [
    "reviews.ts.sort_values()"
   ]
  },
  {
   "cell_type": "code",
   "execution_count": 6,
   "metadata": {},
   "outputs": [],
   "source": [
    "reviews = reviews.query('ts > 1116 & rating_y > 4 & user_city != org_city')"
   ]
  },
  {
   "cell_type": "code",
   "execution_count": 7,
   "metadata": {},
   "outputs": [],
   "source": [
    "reviews['rcount'] = reviews['org_id'].apply(lambda x: reviews['org_id'].value_counts()[x])"
   ]
  },
  {
   "cell_type": "code",
   "execution_count": 8,
   "metadata": {},
   "outputs": [],
   "source": [
    "reviews = reviews.query('rcount > 10')"
   ]
  },
  {
   "cell_type": "code",
   "execution_count": 9,
   "metadata": {},
   "outputs": [],
   "source": [
    "topr = reviews.sort_values('rcount', ascending=False)"
   ]
  },
  {
   "cell_type": "code",
   "execution_count": 10,
   "metadata": {},
   "outputs": [],
   "source": [
    "topr_m = topr[topr['org_city'] == 'msk']\n",
    "topr_s = topr[topr['org_city'] == 'spb']"
   ]
  },
  {
   "cell_type": "code",
   "execution_count": 11,
   "metadata": {},
   "outputs": [
    {
     "name": "stdout",
     "output_type": "stream",
     "text": [
      "20\n"
     ]
    }
   ],
   "source": [
    "msk_orgs = topr_m.groupby('org_id')['rcount'].mean().sort_values(ascending=False).index[:20].to_list()\n",
    "print(len(msk_orgs))\n",
    "msk_orgs = str(' '.join(map(str, msk_orgs)))\n"
   ]
  },
  {
   "cell_type": "code",
   "execution_count": 12,
   "metadata": {},
   "outputs": [
    {
     "name": "stdout",
     "output_type": "stream",
     "text": [
      "20\n"
     ]
    }
   ],
   "source": [
    "spb_orgs = topr_s.groupby('org_id')['rcount'].mean().sort_values(ascending=False).index[:20].to_list()\n",
    "print(len(spb_orgs))\n",
    "spb_orgs = str(' '.join(map(str, spb_orgs)))\n"
   ]
  },
  {
   "cell_type": "code",
   "execution_count": 13,
   "metadata": {},
   "outputs": [
    {
     "data": {
      "text/html": [
       "<div>\n",
       "<style scoped>\n",
       "    .dataframe tbody tr th:only-of-type {\n",
       "        vertical-align: middle;\n",
       "    }\n",
       "\n",
       "    .dataframe tbody tr th {\n",
       "        vertical-align: top;\n",
       "    }\n",
       "\n",
       "    .dataframe thead th {\n",
       "        text-align: right;\n",
       "    }\n",
       "</style>\n",
       "<table border=\"1\" class=\"dataframe\">\n",
       "  <thead>\n",
       "    <tr style=\"text-align: right;\">\n",
       "      <th></th>\n",
       "      <th>user_id</th>\n",
       "      <th>target</th>\n",
       "    </tr>\n",
       "  </thead>\n",
       "  <tbody>\n",
       "    <tr>\n",
       "      <th>0</th>\n",
       "      <td>3545210947248911048</td>\n",
       "      <td>12046097390037935713 14814427257061788801 2070...</td>\n",
       "    </tr>\n",
       "    <tr>\n",
       "      <th>1</th>\n",
       "      <td>15271987121288045390</td>\n",
       "      <td>12046097390037935713 14814427257061788801 2070...</td>\n",
       "    </tr>\n",
       "    <tr>\n",
       "      <th>2</th>\n",
       "      <td>15016858616184265932</td>\n",
       "      <td>12046097390037935713 14814427257061788801 2070...</td>\n",
       "    </tr>\n",
       "    <tr>\n",
       "      <th>3</th>\n",
       "      <td>12457244142928722989</td>\n",
       "      <td>12046097390037935713 14814427257061788801 2070...</td>\n",
       "    </tr>\n",
       "    <tr>\n",
       "      <th>4</th>\n",
       "      <td>13339684649926251468</td>\n",
       "      <td>15250345250621165867 15684663803879321952 9104...</td>\n",
       "    </tr>\n",
       "  </tbody>\n",
       "</table>\n",
       "</div>"
      ],
      "text/plain": [
       "                user_id                                             target\n",
       "0   3545210947248911048  12046097390037935713 14814427257061788801 2070...\n",
       "1  15271987121288045390  12046097390037935713 14814427257061788801 2070...\n",
       "2  15016858616184265932  12046097390037935713 14814427257061788801 2070...\n",
       "3  12457244142928722989  12046097390037935713 14814427257061788801 2070...\n",
       "4  13339684649926251468  15250345250621165867 15684663803879321952 9104..."
      ]
     },
     "execution_count": 13,
     "metadata": {},
     "output_type": "execute_result"
    }
   ],
   "source": [
    "test_users['city'] = test_users.merge(users, on='user_id')['city']\n",
    "\n",
    "choose = lambda x: spb_orgs if x['city'] == 'msk' else msk_orgs\n",
    "target = test_users.apply(choose, axis=1)\n",
    "\n",
    "predictions = test_users[['user_id']]\n",
    "predictions['target'] = target\n",
    "\n",
    "predictions.head()"
   ]
  },
  {
   "cell_type": "code",
   "execution_count": 14,
   "metadata": {},
   "outputs": [],
   "source": [
    "predictions.to_csv('answers.csv', index=None)"
   ]
  },
  {
   "cell_type": "code",
   "execution_count": null,
   "metadata": {},
   "outputs": [],
   "source": []
  }
 ],
 "metadata": {
  "colab": {
   "authorship_tag": "ABX9TyM50Sxbs1XcrLCCARTGT/Bz",
   "collapsed_sections": [],
   "name": "main.ipynb",
   "provenance": []
  },
  "kernelspec": {
   "display_name": "Python 3",
   "language": "python",
   "name": "python3"
  },
  "language_info": {
   "codemirror_mode": {
    "name": "ipython",
    "version": 3
   },
   "file_extension": ".py",
   "mimetype": "text/x-python",
   "name": "python",
   "nbconvert_exporter": "python",
   "pygments_lexer": "ipython3",
   "version": "3.8.8"
  }
 },
 "nbformat": 4,
 "nbformat_minor": 4
}
